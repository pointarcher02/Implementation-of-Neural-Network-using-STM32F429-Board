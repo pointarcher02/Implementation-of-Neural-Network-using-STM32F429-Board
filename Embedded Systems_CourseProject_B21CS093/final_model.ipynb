{
 "cells": [
  {
   "cell_type": "code",
   "execution_count": 1,
   "metadata": {},
   "outputs": [],
   "source": [
    "import tensorflow as tf\n",
    "from tensorflow.keras import datasets, layers, models\n",
    "import matplotlib.pyplot as plt\n",
    "import numpy as np\n",
    "import pandas as pd \n",
    "from sklearn.metrics import confusion_matrix , classification_report"
   ]
  },
  {
   "cell_type": "code",
   "execution_count": 2,
   "metadata": {},
   "outputs": [],
   "source": [
    "# Import the CSV file for training and testing datasets\n",
    "df_train = pd.read_csv('bupa.csv')\n"
   ]
  },
  {
   "cell_type": "code",
   "execution_count": 3,
   "metadata": {},
   "outputs": [],
   "source": [
    "covariance_mat = df_train.cov()"
   ]
  },
  {
   "cell_type": "code",
   "execution_count": 4,
   "metadata": {},
   "outputs": [],
   "source": [
    "df_train['label'] = df_train['label'].replace({1: 0, 2: 1})\n"
   ]
  },
  {
   "cell_type": "code",
   "execution_count": 5,
   "metadata": {},
   "outputs": [
    {
     "data": {
      "text/html": [
       "<div>\n",
       "<style scoped>\n",
       "    .dataframe tbody tr th:only-of-type {\n",
       "        vertical-align: middle;\n",
       "    }\n",
       "\n",
       "    .dataframe tbody tr th {\n",
       "        vertical-align: top;\n",
       "    }\n",
       "\n",
       "    .dataframe thead th {\n",
       "        text-align: right;\n",
       "    }\n",
       "</style>\n",
       "<table border=\"1\" class=\"dataframe\">\n",
       "  <thead>\n",
       "    <tr style=\"text-align: right;\">\n",
       "      <th></th>\n",
       "      <th>col1</th>\n",
       "      <th>col2</th>\n",
       "      <th>col3</th>\n",
       "      <th>col4</th>\n",
       "      <th>col5</th>\n",
       "      <th>col6</th>\n",
       "      <th>label</th>\n",
       "    </tr>\n",
       "  </thead>\n",
       "  <tbody>\n",
       "    <tr>\n",
       "      <th>col1</th>\n",
       "      <td>19.785558</td>\n",
       "      <td>3.599343</td>\n",
       "      <td>12.818841</td>\n",
       "      <td>8.405839</td>\n",
       "      <td>38.817956</td>\n",
       "      <td>4.642358</td>\n",
       "      <td>-0.200244</td>\n",
       "    </tr>\n",
       "    <tr>\n",
       "      <th>col2</th>\n",
       "      <td>3.599343</td>\n",
       "      <td>336.637007</td>\n",
       "      <td>27.282735</td>\n",
       "      <td>26.970804</td>\n",
       "      <td>95.891810</td>\n",
       "      <td>6.172902</td>\n",
       "      <td>-0.889282</td>\n",
       "    </tr>\n",
       "    <tr>\n",
       "      <th>col3</th>\n",
       "      <td>12.818841</td>\n",
       "      <td>27.282735</td>\n",
       "      <td>380.730199</td>\n",
       "      <td>145.258468</td>\n",
       "      <td>385.605325</td>\n",
       "      <td>13.471773</td>\n",
       "      <td>-0.337673</td>\n",
       "    </tr>\n",
       "    <tr>\n",
       "      <th>col4</th>\n",
       "      <td>8.405839</td>\n",
       "      <td>26.970804</td>\n",
       "      <td>145.258468</td>\n",
       "      <td>101.294034</td>\n",
       "      <td>208.453311</td>\n",
       "      <td>9.392366</td>\n",
       "      <td>0.782861</td>\n",
       "    </tr>\n",
       "    <tr>\n",
       "      <th>col5</th>\n",
       "      <td>38.817956</td>\n",
       "      <td>95.891810</td>\n",
       "      <td>385.605325</td>\n",
       "      <td>208.453311</td>\n",
       "      <td>1540.924890</td>\n",
       "      <td>44.709020</td>\n",
       "      <td>2.840664</td>\n",
       "    </tr>\n",
       "    <tr>\n",
       "      <th>col6</th>\n",
       "      <td>4.642358</td>\n",
       "      <td>6.172902</td>\n",
       "      <td>13.471773</td>\n",
       "      <td>9.392366</td>\n",
       "      <td>44.709020</td>\n",
       "      <td>11.141144</td>\n",
       "      <td>-0.036379</td>\n",
       "    </tr>\n",
       "    <tr>\n",
       "      <th>label</th>\n",
       "      <td>-0.200244</td>\n",
       "      <td>-0.889282</td>\n",
       "      <td>-0.337673</td>\n",
       "      <td>0.782861</td>\n",
       "      <td>2.840664</td>\n",
       "      <td>-0.036379</td>\n",
       "      <td>0.244355</td>\n",
       "    </tr>\n",
       "  </tbody>\n",
       "</table>\n",
       "</div>"
      ],
      "text/plain": [
       "            col1        col2        col3        col4         col5       col6  \\\n",
       "col1   19.785558    3.599343   12.818841    8.405839    38.817956   4.642358   \n",
       "col2    3.599343  336.637007   27.282735   26.970804    95.891810   6.172902   \n",
       "col3   12.818841   27.282735  380.730199  145.258468   385.605325  13.471773   \n",
       "col4    8.405839   26.970804  145.258468  101.294034   208.453311   9.392366   \n",
       "col5   38.817956   95.891810  385.605325  208.453311  1540.924890  44.709020   \n",
       "col6    4.642358    6.172902   13.471773    9.392366    44.709020  11.141144   \n",
       "label  -0.200244   -0.889282   -0.337673    0.782861     2.840664  -0.036379   \n",
       "\n",
       "          label  \n",
       "col1  -0.200244  \n",
       "col2  -0.889282  \n",
       "col3  -0.337673  \n",
       "col4   0.782861  \n",
       "col5   2.840664  \n",
       "col6  -0.036379  \n",
       "label  0.244355  "
      ]
     },
     "execution_count": 5,
     "metadata": {},
     "output_type": "execute_result"
    }
   ],
   "source": [
    "covariance_mat"
   ]
  },
  {
   "cell_type": "code",
   "execution_count": 6,
   "metadata": {},
   "outputs": [],
   "source": [
    "y_train = df_train['label']\n",
    "X_train = df_train.drop(columns=['label']) \n"
   ]
  },
  {
   "cell_type": "code",
   "execution_count": 7,
   "metadata": {},
   "outputs": [
    {
     "name": "stdout",
     "output_type": "stream",
     "text": [
      "Epoch 1/10\n"
     ]
    },
    {
     "name": "stderr",
     "output_type": "stream",
     "text": [
      "c:\\Users\\shash\\AppData\\Local\\Programs\\Python\\Python311\\Lib\\site-packages\\keras\\src\\layers\\reshaping\\flatten.py:37: UserWarning: Do not pass an `input_shape`/`input_dim` argument to a layer. When using Sequential models, prefer using an `Input(shape)` object as the first layer in the model instead.\n",
      "  super().__init__(**kwargs)\n"
     ]
    },
    {
     "name": "stdout",
     "output_type": "stream",
     "text": [
      "\u001b[1m11/11\u001b[0m \u001b[32m━━━━━━━━━━━━━━━━━━━━\u001b[0m\u001b[37m\u001b[0m \u001b[1m1s\u001b[0m 2ms/step - accuracy: 0.4303 - loss: 13.8943  \n",
      "Epoch 2/10\n",
      "\u001b[1m11/11\u001b[0m \u001b[32m━━━━━━━━━━━━━━━━━━━━\u001b[0m\u001b[37m\u001b[0m \u001b[1m0s\u001b[0m 2ms/step - accuracy: 0.3812 - loss: 13.9242 \n",
      "Epoch 3/10\n",
      "\u001b[1m11/11\u001b[0m \u001b[32m━━━━━━━━━━━━━━━━━━━━\u001b[0m\u001b[37m\u001b[0m \u001b[1m0s\u001b[0m 2ms/step - accuracy: 0.4025 - loss: 12.6859 \n",
      "Epoch 4/10\n",
      "\u001b[1m11/11\u001b[0m \u001b[32m━━━━━━━━━━━━━━━━━━━━\u001b[0m\u001b[37m\u001b[0m \u001b[1m0s\u001b[0m 1ms/step - accuracy: 0.4354 - loss: 10.5662\n",
      "Epoch 5/10\n",
      "\u001b[1m11/11\u001b[0m \u001b[32m━━━━━━━━━━━━━━━━━━━━\u001b[0m\u001b[37m\u001b[0m \u001b[1m0s\u001b[0m 2ms/step - accuracy: 0.4434 - loss: 9.6686 \n",
      "Epoch 6/10\n",
      "\u001b[1m11/11\u001b[0m \u001b[32m━━━━━━━━━━━━━━━━━━━━\u001b[0m\u001b[37m\u001b[0m \u001b[1m0s\u001b[0m 802us/step - accuracy: 0.4208 - loss: 9.0851\n",
      "Epoch 7/10\n",
      "\u001b[1m11/11\u001b[0m \u001b[32m━━━━━━━━━━━━━━━━━━━━\u001b[0m\u001b[37m\u001b[0m \u001b[1m0s\u001b[0m 2ms/step - accuracy: 0.4162 - loss: 8.3431 \n",
      "Epoch 8/10\n",
      "\u001b[1m11/11\u001b[0m \u001b[32m━━━━━━━━━━━━━━━━━━━━\u001b[0m\u001b[37m\u001b[0m \u001b[1m0s\u001b[0m 1ms/step - accuracy: 0.4164 - loss: 7.7141 \n",
      "Epoch 9/10\n",
      "\u001b[1m11/11\u001b[0m \u001b[32m━━━━━━━━━━━━━━━━━━━━\u001b[0m\u001b[37m\u001b[0m \u001b[1m0s\u001b[0m 1ms/step - accuracy: 0.4230 - loss: 6.6757 \n",
      "Epoch 10/10\n",
      "\u001b[1m11/11\u001b[0m \u001b[32m━━━━━━━━━━━━━━━━━━━━\u001b[0m\u001b[37m\u001b[0m \u001b[1m0s\u001b[0m 846us/step - accuracy: 0.4132 - loss: 6.5223\n"
     ]
    },
    {
     "data": {
      "text/plain": [
       "<keras.src.callbacks.history.History at 0x2040da6d9d0>"
      ]
     },
     "execution_count": 7,
     "metadata": {},
     "output_type": "execute_result"
    }
   ],
   "source": [
    "ann = models.Sequential([\n",
    "        layers.Flatten(input_shape=(6,)),\n",
    "        layers.Dense(2, activation='relu'),\n",
    "        layers.Dense(2, activation='relu'),\n",
    "        layers.Dense(1, activation='sigmoid')    \n",
    "    ])\n",
    "\n",
    "ann.compile(optimizer='adam',\n",
    "               loss='binary_crossentropy',\n",
    "               metrics=['accuracy'])\n",
    "\n",
    "#ann.compile(loss='binary_crossentropy')\n",
    "ann.fit(X_train, y_train, epochs=10)"
   ]
  },
  {
   "cell_type": "code",
   "execution_count": 8,
   "metadata": {},
   "outputs": [
    {
     "name": "stdout",
     "output_type": "stream",
     "text": [
      "\u001b[1m11/11\u001b[0m \u001b[32m━━━━━━━━━━━━━━━━━━━━\u001b[0m\u001b[37m\u001b[0m \u001b[1m0s\u001b[0m 3ms/step \n",
      "Classification Report: \n",
      "               precision    recall  f1-score   support\n",
      "\n",
      "           0       0.42      1.00      0.59       145\n",
      "           1       0.00      0.00      0.00       200\n",
      "\n",
      "    accuracy                           0.42       345\n",
      "   macro avg       0.21      0.50      0.30       345\n",
      "weighted avg       0.18      0.42      0.25       345\n",
      "\n"
     ]
    },
    {
     "name": "stderr",
     "output_type": "stream",
     "text": [
      "c:\\Users\\shash\\AppData\\Local\\Programs\\Python\\Python311\\Lib\\site-packages\\sklearn\\metrics\\_classification.py:1344: UndefinedMetricWarning: Precision and F-score are ill-defined and being set to 0.0 in labels with no predicted samples. Use `zero_division` parameter to control this behavior.\n",
      "  _warn_prf(average, modifier, msg_start, len(result))\n",
      "c:\\Users\\shash\\AppData\\Local\\Programs\\Python\\Python311\\Lib\\site-packages\\sklearn\\metrics\\_classification.py:1344: UndefinedMetricWarning: Precision and F-score are ill-defined and being set to 0.0 in labels with no predicted samples. Use `zero_division` parameter to control this behavior.\n",
      "  _warn_prf(average, modifier, msg_start, len(result))\n",
      "c:\\Users\\shash\\AppData\\Local\\Programs\\Python\\Python311\\Lib\\site-packages\\sklearn\\metrics\\_classification.py:1344: UndefinedMetricWarning: Precision and F-score are ill-defined and being set to 0.0 in labels with no predicted samples. Use `zero_division` parameter to control this behavior.\n",
      "  _warn_prf(average, modifier, msg_start, len(result))\n"
     ]
    }
   ],
   "source": [
    "\n",
    "y_pred = ann.predict(X_train)\n",
    "y_pred_classes = [np.argmax(element) for element in y_pred]\n",
    "\n",
    "print(\"Classification Report: \\n\", classification_report(y_train, y_pred_classes))"
   ]
  },
  {
   "cell_type": "code",
   "execution_count": 9,
   "metadata": {},
   "outputs": [],
   "source": [
    "# Get the weights and biases of all layers in the model\n",
    "model_weights = ann.get_weights()"
   ]
  },
  {
   "cell_type": "code",
   "execution_count": 10,
   "metadata": {},
   "outputs": [
    {
     "name": "stdout",
     "output_type": "stream",
     "text": [
      "Layer 1 Weights Shape: (6, 2)\n",
      "Weights: (2,)\n",
      "Layer 1 Biases Shape: (2,)\n",
      "Biases: ()\n",
      "Layer 2 Weights Shape: (2, 2)\n",
      "Weights: (2,)\n",
      "Layer 2 Biases Shape: (2,)\n",
      "Biases: ()\n",
      "Layer 3 Weights Shape: (2, 1)\n",
      "Weights: (1,)\n",
      "Layer 3 Biases Shape: (1,)\n",
      "Biases: ()\n"
     ]
    }
   ],
   "source": [
    "# //print(model_weights)\n",
    "for i, layer_weights in enumerate(model_weights):\n",
    "    # Assuming even indices represent weights and odd indices represent biases\n",
    "    if i % 2 == 0:\n",
    "        print(f'Layer {i//2 + 1} Weights Shape:', layer_weights.shape)\n",
    "        print('Weights:', layer_weights[0].shape)\n",
    "    else:\n",
    "        print(f'Layer {i//2 + 1} Biases Shape:', layer_weights.shape)\n",
    "        print('Biases:', layer_weights[0].shape)"
   ]
  },
  {
   "cell_type": "code",
   "execution_count": 11,
   "metadata": {},
   "outputs": [],
   "source": [
    "# Layer IP to H1\n",
    "Input_to_H1_weights = model_weights[0]\n",
    "Input_to_H1_biases = model_weights[1]\n",
    "\n",
    "# Layer H1 to H2\n",
    "H1_to_H2_weights = model_weights[2]\n",
    "H1_to_H2_biases = model_weights[3]\n",
    "\n",
    "# Layer H2 to Output\n",
    "H2_to_Output_weights = model_weights[4]\n",
    "H2_to_Output_biases = model_weights[5]"
   ]
  },
  {
   "cell_type": "code",
   "execution_count": 12,
   "metadata": {},
   "outputs": [
    {
     "name": "stdout",
     "output_type": "stream",
     "text": [
      "(2, 6)\n",
      "12\n"
     ]
    }
   ],
   "source": [
    "# Modify 1\n",
    "Input_to_H1_weights = np.array(Input_to_H1_weights)\n",
    "modified_Input_to_H1_weights = Input_to_H1_weights.T\n",
    "print(modified_Input_to_H1_weights.shape)\n",
    "flattened_weights_1 = []\n",
    "for i in modified_Input_to_H1_weights:\n",
    "    for j in i:\n",
    "        flattened_weights_1.append(j)\n",
    "print(len(flattened_weights_1))"
   ]
  },
  {
   "cell_type": "code",
   "execution_count": 13,
   "metadata": {},
   "outputs": [
    {
     "name": "stdout",
     "output_type": "stream",
     "text": [
      "(2, 2)\n",
      "4\n"
     ]
    }
   ],
   "source": [
    "# Modify 2\n",
    "H1_to_H2_weights = np.array(H1_to_H2_weights)\n",
    "modified_H1_to_H2_weights = H1_to_H2_weights.T\n",
    "print(modified_H1_to_H2_weights.shape)\n",
    "flattened_weights_2 = []\n",
    "for i in modified_H1_to_H2_weights:\n",
    "    for j in i:\n",
    "        flattened_weights_2.append(j)\n",
    "print(len(flattened_weights_2))"
   ]
  },
  {
   "cell_type": "code",
   "execution_count": 14,
   "metadata": {},
   "outputs": [
    {
     "name": "stdout",
     "output_type": "stream",
     "text": [
      "(1, 2)\n",
      "2\n"
     ]
    }
   ],
   "source": [
    "# Modify 3\n",
    "H2_to_Output_weights = np.array(H2_to_Output_weights)\n",
    "modified_H2_to_Output_weights = H2_to_Output_weights.T\n",
    "print(modified_H2_to_Output_weights.shape)\n",
    "flattened_weights_3 = []\n",
    "for i in modified_H2_to_Output_weights:\n",
    "    for j in i:\n",
    "        flattened_weights_3.append(j)\n",
    "print(len(flattened_weights_3))"
   ]
  },
  {
   "cell_type": "code",
   "execution_count": 15,
   "metadata": {},
   "outputs": [
    {
     "name": "stdout",
     "output_type": "stream",
     "text": [
      "18\n"
     ]
    }
   ],
   "source": [
    "input_weights = flattened_weights_1 + flattened_weights_2 + flattened_weights_3\n",
    "print(len(input_weights))"
   ]
  },
  {
   "cell_type": "code",
   "execution_count": 16,
   "metadata": {},
   "outputs": [
    {
     "name": "stdout",
     "output_type": "stream",
     "text": [
      "5\n"
     ]
    }
   ],
   "source": [
    "Input_to_H1_biases = list(Input_to_H1_biases)\n",
    "H1_to_H2_biases = list(H1_to_H2_biases)\n",
    "H2_to_Output_biases = list(H2_to_Output_biases)\n",
    "\n",
    "\n",
    "input_biases = Input_to_H1_biases + H1_to_H2_biases + H2_to_Output_biases\n",
    "print(len(input_biases))"
   ]
  },
  {
   "cell_type": "code",
   "execution_count": 17,
   "metadata": {},
   "outputs": [],
   "source": [
    "# Define a list of numbers\n",
    "# numbers = [1, 2, 3, 4, 5]\n",
    "\n",
    "# Open a file in write mode (this will create a new file or overwrite an existing one)\n",
    "with open('weights.txt', 'w') as file:\n",
    "    # Iterate over the list of numbers and write each number to the file\n",
    "    for number in input_weights:\n",
    "        file.write(str(number) + ',')  # Write each number followed by a newline character"
   ]
  },
  {
   "cell_type": "code",
   "execution_count": 18,
   "metadata": {},
   "outputs": [],
   "source": [
    "# Open a file in write mode (this will create a new file or overwrite an existing one)\n",
    "with open('biases.txt', 'w') as file:\n",
    "    # Iterate over the list of numbers and write each number to the file\n",
    "    for number in input_biases:\n",
    "        file.write(str(number) + ',')  # Write each number followed by a newline character"
   ]
  },
  {
   "cell_type": "code",
   "execution_count": 19,
   "metadata": {},
   "outputs": [],
   "source": [
    "# Open a file in write mode (this will create a new file or overwrite an existing one)\n",
    "with open('input.txt', 'w') as file:\n",
    "    # Iterate over the list of numbers and write each number to the file\n",
    "    for number in np.array(X_train.iloc[0]):\n",
    "        file.write(str(number) + ',')  # Write each number followed by a newline character"
   ]
  },
  {
   "cell_type": "code",
   "execution_count": 23,
   "metadata": {},
   "outputs": [
    {
     "data": {
      "text/html": [
       "<div>\n",
       "<style scoped>\n",
       "    .dataframe tbody tr th:only-of-type {\n",
       "        vertical-align: middle;\n",
       "    }\n",
       "\n",
       "    .dataframe tbody tr th {\n",
       "        vertical-align: top;\n",
       "    }\n",
       "\n",
       "    .dataframe thead th {\n",
       "        text-align: right;\n",
       "    }\n",
       "</style>\n",
       "<table border=\"1\" class=\"dataframe\">\n",
       "  <thead>\n",
       "    <tr style=\"text-align: right;\">\n",
       "      <th></th>\n",
       "      <th>col1</th>\n",
       "      <th>col2</th>\n",
       "      <th>col3</th>\n",
       "      <th>col4</th>\n",
       "      <th>col5</th>\n",
       "      <th>col6</th>\n",
       "    </tr>\n",
       "  </thead>\n",
       "  <tbody>\n",
       "    <tr>\n",
       "      <th>0</th>\n",
       "      <td>85</td>\n",
       "      <td>92</td>\n",
       "      <td>45</td>\n",
       "      <td>27</td>\n",
       "      <td>31</td>\n",
       "      <td>0.0</td>\n",
       "    </tr>\n",
       "    <tr>\n",
       "      <th>1</th>\n",
       "      <td>85</td>\n",
       "      <td>64</td>\n",
       "      <td>59</td>\n",
       "      <td>32</td>\n",
       "      <td>23</td>\n",
       "      <td>0.0</td>\n",
       "    </tr>\n",
       "    <tr>\n",
       "      <th>2</th>\n",
       "      <td>86</td>\n",
       "      <td>54</td>\n",
       "      <td>33</td>\n",
       "      <td>16</td>\n",
       "      <td>54</td>\n",
       "      <td>0.0</td>\n",
       "    </tr>\n",
       "    <tr>\n",
       "      <th>3</th>\n",
       "      <td>91</td>\n",
       "      <td>78</td>\n",
       "      <td>34</td>\n",
       "      <td>24</td>\n",
       "      <td>36</td>\n",
       "      <td>0.0</td>\n",
       "    </tr>\n",
       "    <tr>\n",
       "      <th>4</th>\n",
       "      <td>87</td>\n",
       "      <td>70</td>\n",
       "      <td>12</td>\n",
       "      <td>28</td>\n",
       "      <td>10</td>\n",
       "      <td>0.0</td>\n",
       "    </tr>\n",
       "    <tr>\n",
       "      <th>...</th>\n",
       "      <td>...</td>\n",
       "      <td>...</td>\n",
       "      <td>...</td>\n",
       "      <td>...</td>\n",
       "      <td>...</td>\n",
       "      <td>...</td>\n",
       "    </tr>\n",
       "    <tr>\n",
       "      <th>340</th>\n",
       "      <td>99</td>\n",
       "      <td>75</td>\n",
       "      <td>26</td>\n",
       "      <td>24</td>\n",
       "      <td>41</td>\n",
       "      <td>12.0</td>\n",
       "    </tr>\n",
       "    <tr>\n",
       "      <th>341</th>\n",
       "      <td>96</td>\n",
       "      <td>69</td>\n",
       "      <td>53</td>\n",
       "      <td>43</td>\n",
       "      <td>203</td>\n",
       "      <td>12.0</td>\n",
       "    </tr>\n",
       "    <tr>\n",
       "      <th>342</th>\n",
       "      <td>98</td>\n",
       "      <td>77</td>\n",
       "      <td>55</td>\n",
       "      <td>35</td>\n",
       "      <td>89</td>\n",
       "      <td>15.0</td>\n",
       "    </tr>\n",
       "    <tr>\n",
       "      <th>343</th>\n",
       "      <td>91</td>\n",
       "      <td>68</td>\n",
       "      <td>27</td>\n",
       "      <td>26</td>\n",
       "      <td>14</td>\n",
       "      <td>16.0</td>\n",
       "    </tr>\n",
       "    <tr>\n",
       "      <th>344</th>\n",
       "      <td>98</td>\n",
       "      <td>99</td>\n",
       "      <td>57</td>\n",
       "      <td>45</td>\n",
       "      <td>65</td>\n",
       "      <td>20.0</td>\n",
       "    </tr>\n",
       "  </tbody>\n",
       "</table>\n",
       "<p>345 rows × 6 columns</p>\n",
       "</div>"
      ],
      "text/plain": [
       "     col1  col2  col3  col4  col5  col6\n",
       "0      85    92    45    27    31   0.0\n",
       "1      85    64    59    32    23   0.0\n",
       "2      86    54    33    16    54   0.0\n",
       "3      91    78    34    24    36   0.0\n",
       "4      87    70    12    28    10   0.0\n",
       "..    ...   ...   ...   ...   ...   ...\n",
       "340    99    75    26    24    41  12.0\n",
       "341    96    69    53    43   203  12.0\n",
       "342    98    77    55    35    89  15.0\n",
       "343    91    68    27    26    14  16.0\n",
       "344    98    99    57    45    65  20.0\n",
       "\n",
       "[345 rows x 6 columns]"
      ]
     },
     "execution_count": 23,
     "metadata": {},
     "output_type": "execute_result"
    }
   ],
   "source": [
    "X_train"
   ]
  },
  {
   "cell_type": "code",
   "execution_count": null,
   "metadata": {},
   "outputs": [],
   "source": []
  },
  {
   "cell_type": "code",
   "execution_count": null,
   "metadata": {},
   "outputs": [],
   "source": []
  }
 ],
 "metadata": {
  "kernelspec": {
   "display_name": "Python 3",
   "language": "python",
   "name": "python3"
  },
  "language_info": {
   "codemirror_mode": {
    "name": "ipython",
    "version": 3
   },
   "file_extension": ".py",
   "mimetype": "text/x-python",
   "name": "python",
   "nbconvert_exporter": "python",
   "pygments_lexer": "ipython3",
   "version": "3.11.4"
  }
 },
 "nbformat": 4,
 "nbformat_minor": 2
}
